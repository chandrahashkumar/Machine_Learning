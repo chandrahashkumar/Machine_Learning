{
 "cells": [
  {
   "cell_type": "code",
   "execution_count": 2,
   "id": "1ada24d7-aa2c-4d2d-8d14-7a0cea8552b7",
   "metadata": {},
   "outputs": [
    {
     "name": "stdout",
     "output_type": "stream",
     "text": [
      "Accuracy: 0.7142857142857143\n",
      "Precision: 0.75\n",
      "Recall: 0.75\n",
      "F1 score: 0.75\n"
     ]
    }
   ],
   "source": [
    "\"\"\"\n",
    "accuracy = correct_prediction / total_prediction\n",
    "\n",
    "sklearn.metrics\n",
    "\n",
    "model accuracy\n",
    "\n",
    "\n",
    "\"\"\"\n",
    "\n",
    "from sklearn.metrics import accuracy_score, precision_score, recall_score, f1_score\n",
    "\n",
    "# True answer (what actually happened)\n",
    "y_true = [1,0,1,1,0,1,0]\n",
    "\n",
    "# Model's predictions (what it guessed)\n",
    "y_pred = [1,0,1,0,0,1,1]\n",
    "\n",
    "# evaluation\n",
    "print(f\"Accuracy: {accuracy_score(y_true, y_pred)}\")\n",
    "print(f\"Precision: {precision_score(y_true, y_pred)}\")\n",
    "print(f\"Recall: {recall_score(y_true, y_pred)}\") \n",
    "print(f\"F1 score: {f1_score(y_true, y_pred)}\")"
   ]
  },
  {
   "cell_type": "code",
   "execution_count": 3,
   "id": "a35ac330-3b87-4474-bc3e-aacfcdaee003",
   "metadata": {},
   "outputs": [
    {
     "name": "stdout",
     "output_type": "stream",
     "text": [
      "Confusion Matrix: \n",
      "[[4 1]\n",
      " [1 4]]\n"
     ]
    }
   ],
   "source": [
    "from sklearn.metrics import confusion_matrix\n",
    "\n",
    "y_true = [1,0,1,1,0,1,0,0,1,0]\n",
    "y_pred = [1,0,1,0,0,1,1,0,1,0]\n",
    "\n",
    "cm = confusion_matrix(y_true, y_pred)\n",
    "\n",
    "print(\"Confusion Matrix: \")\n",
    "print(cm)"
   ]
  },
  {
   "cell_type": "markdown",
   "id": "26f50ac6-74ff-445d-8ef2-d5fc5862a8a6",
   "metadata": {},
   "source": [
    "### 4 -> (TN) 1 -> (FP)\n",
    "### 1 -> (FN) 4 -> (TP)"
   ]
  },
  {
   "cell_type": "code",
   "execution_count": 4,
   "id": "652c98ff-7af7-4116-b408-bdc0e8547413",
   "metadata": {},
   "outputs": [
    {
     "name": "stdout",
     "output_type": "stream",
     "text": [
      "MAE: On average off by: 7.5\n",
      "MSE: Squared Mistake Value: 62.5\n",
      "RMSE: Final Realistic value: 7.905694150420948\n"
     ]
    }
   ],
   "source": [
    "\"\"\" \n",
    "MEAN ABSOLUTE ERROR\n",
    "1 take the mistake difference\n",
    "2 remove the minus sing\n",
    "3 add\n",
    "4 divide\n",
    "\n",
    "MSE- Mean Squared Error\n",
    "1 Mistakes square them\n",
    "2 add\n",
    "3 divide total\n",
    "\n",
    "RMSE- Root Mean Squared Error\n",
    "\"\"\"\n",
    "\n",
    "from sklearn.metrics import mean_absolute_error, mean_squared_error\n",
    "import numpy as np\n",
    "\n",
    "# real scores\n",
    "real_scores = [90,60,80,100]\n",
    "\n",
    "#model guess\n",
    "predicted_scores = [85, 70, 70, 95]\n",
    "\n",
    "mae = mean_absolute_error(real_scores, predicted_scores)\n",
    "\n",
    "mse = mean_squared_error(real_scores, predicted_scores)\n",
    "\n",
    "rmse = np.sqrt(mse)\n",
    "\n",
    "print(f\"MAE: On average off by: {mae}\")\n",
    "print(f\"MSE: Squared Mistake Value: {mse}\")\n",
    "print(f\"RMSE: Final Realistic value: {rmse}\")"
   ]
  },
  {
   "cell_type": "code",
   "execution_count": null,
   "id": "2232cea4-3d84-4cbc-9979-a2194e0393ab",
   "metadata": {},
   "outputs": [],
   "source": []
  }
 ],
 "metadata": {
  "kernelspec": {
   "display_name": "SKLEARN-KERNEL",
   "language": "python",
   "name": "sklearn-kernel"
  },
  "language_info": {
   "codemirror_mode": {
    "name": "ipython",
    "version": 3
   },
   "file_extension": ".py",
   "mimetype": "text/x-python",
   "name": "python",
   "nbconvert_exporter": "python",
   "pygments_lexer": "ipython3",
   "version": "3.12.0"
  }
 },
 "nbformat": 4,
 "nbformat_minor": 5
}
