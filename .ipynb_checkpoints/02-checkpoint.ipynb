{
 "cells": [
  {
   "cell_type": "markdown",
   "id": "471e9871-3b90-4d96-aa34-3ee5bcfeb909",
   "metadata": {},
   "source": [
    "# Linear Regression"
   ]
  },
  {
   "cell_type": "code",
   "execution_count": 1,
   "id": "initial_id",
   "metadata": {
    "ExecuteTime": {
     "end_time": "2025-08-13T15:35:40.346027Z",
     "start_time": "2025-08-13T15:35:32.700184Z"
    }
   },
   "outputs": [],
   "source": [
    "from sklearn.linear_model import LinearRegression\n",
    "import pandas as pd\n",
    "import numpy as np"
   ]
  },
  {
   "cell_type": "code",
   "execution_count": 17,
   "id": "68a61ff278e571f0",
   "metadata": {
    "ExecuteTime": {
     "end_time": "2025-08-13T15:41:06.147799Z",
     "start_time": "2025-08-13T15:40:58.127467Z"
    }
   },
   "outputs": [
    {
     "name": "stdin",
     "output_type": "stream",
     "text": [
      "Enter how many hours you studies:  10\n"
     ]
    },
    {
     "name": "stdout",
     "output_type": "stream",
     "text": [
      "Based on your hours 10.0 you may score around 141.5\n"
     ]
    }
   ],
   "source": [
    "X = [[1],[2],[3],[4],[5]]\n",
    "y = [30,40,55,65,80]\n",
    "\n",
    "model = LinearRegression()\n",
    "model.fit(X,y)\n",
    "hours = float(input(\"Enter how many hours you studies: \"))\n",
    "predict_value = model.predict([[hours]])[0]\n",
    "print(f\"Based on your hours {hours} you may score around {predict_value}\")"
   ]
  },
  {
   "cell_type": "code",
   "execution_count": 7,
   "id": "7b7c9374-8534-40d3-90dd-6f9ffee839f1",
   "metadata": {},
   "outputs": [
    {
     "data": {
      "text/plain": [
       "0.9952229299363057"
      ]
     },
     "execution_count": 7,
     "metadata": {},
     "output_type": "execute_result"
    }
   ],
   "source": [
    "model.score(X,y)"
   ]
  },
  {
   "cell_type": "markdown",
   "id": "9fe21c89-1fc8-4cab-95c2-7fcfd055a457",
   "metadata": {},
   "source": [
    "# Logistic Regression"
   ]
  },
  {
   "cell_type": "code",
   "execution_count": 3,
   "id": "16256116-567f-44c7-84f1-dfd919a03a7d",
   "metadata": {
    "ExecuteTime": {
     "end_time": "2025-08-13T15:54:39.500206Z",
     "start_time": "2025-08-13T15:54:39.495474Z"
    }
   },
   "outputs": [],
   "source": [
    "from sklearn.linear_model import LogisticRegression"
   ]
  },
  {
   "cell_type": "code",
   "execution_count": 18,
   "id": "6bc8254384993af7",
   "metadata": {
    "ExecuteTime": {
     "end_time": "2025-08-13T16:01:26.700366Z",
     "start_time": "2025-08-13T16:01:23.208157Z"
    }
   },
   "outputs": [
    {
     "name": "stdin",
     "output_type": "stream",
     "text": [
      "Enter how many you studies:  2\n"
     ]
    },
    {
     "name": "stdout",
     "output_type": "stream",
     "text": [
      "Based on hours 2.0, you are likely to fail\n",
      "0\n"
     ]
    }
   ],
   "source": [
    "X = [[1],[2],[3],[6],[7]]\n",
    "y = [0,0,1,1,1]\n",
    "\n",
    "model = LogisticRegression()\n",
    "model.fit(X,y)\n",
    "hours = float(input(\"Enter how many you studies: \"))\n",
    "\n",
    "predict_result = model.predict([[hours]])[0] # [0] -> access the value\n",
    "if predict_result == 1:\n",
    "    print(f\"Based on hours {hours}, you are likely pass\")\n",
    "    print(predict_result) \n",
    "\n",
    "else:\n",
    "    print(f\"Based on hours {hours}, you are likely to fail\")\n",
    "    print(predict_result)"
   ]
  },
  {
   "cell_type": "markdown",
   "id": "a3086e04-941d-4d3e-855e-faf824aad762",
   "metadata": {},
   "source": [
    "# KNN"
   ]
  },
  {
   "cell_type": "code",
   "execution_count": 16,
   "id": "c315660d-f5c0-4692-b82d-645687693b28",
   "metadata": {},
   "outputs": [
    {
     "name": "stdin",
     "output_type": "stream",
     "text": [
      "Enter the weight in grams:  150\n",
      "Enter the size in cm:  6\n"
     ]
    },
    {
     "name": "stdout",
     "output_type": "stream",
     "text": [
      "This is likely Apple\n"
     ]
    }
   ],
   "source": [
    "from sklearn.neighbors import KNeighborsClassifier\n",
    "\n",
    "X = [\n",
    "    [180, 7],\n",
    "    [200, 7.5],\n",
    "    [250, 8],\n",
    "    [300, 8.5],\n",
    "    [330, 9],\n",
    "    [360, 9.5]  \n",
    "]\n",
    "\n",
    "# 0 = Apple, 1 = Orange\n",
    "y = [0,0,0,1,1,1]\n",
    "\n",
    "model = KNeighborsClassifier(n_neighbors = 3)  # n_neighbors always odd number\n",
    "model.fit(X,y)\n",
    "\n",
    "weight = float(input(\"Enter the weight in grams: \"))\n",
    "size = float(input(\"Enter the size in cm: \"))\n",
    "\n",
    "prediction = model.predict([[weight, size]])[0]\n",
    "\n",
    "if prediction == 0:\n",
    "    print(\"This is likely Apple\")\n",
    "else:\n",
    "    print(\"This is likely an Orange\")\n",
    "\n",
    "    "
   ]
  },
  {
   "cell_type": "markdown",
   "id": "ddf03740-12f1-4fdc-b966-788efea373fa",
   "metadata": {},
   "source": [
    "# Decision Trees"
   ]
  },
  {
   "cell_type": "code",
   "execution_count": 19,
   "id": "67645b96-d8f7-4283-8ccb-193561b55bac",
   "metadata": {},
   "outputs": [
    {
     "name": "stdin",
     "output_type": "stream",
     "text": [
      "Enter the fruit size in cm:  8.5\n",
      "Enter the color shade (1,10): 5\n"
     ]
    },
    {
     "name": "stdout",
     "output_type": "stream",
     "text": [
      "This is likely an Apple.\n"
     ]
    }
   ],
   "source": [
    "from sklearn.tree import DecisionTreeClassifier\n",
    "\n",
    "X = [\n",
    "    [7, 2],\n",
    "    [8, 3], \n",
    "    [9, 8], \n",
    "    [10, 9] \n",
    "]\n",
    "\n",
    "y = [0, 0, 1, 1] # 0 -> Apple, 1 -> Orange\n",
    "\n",
    "model = DecisionTreeClassifier()\n",
    "\n",
    "model.fit(X, y)\n",
    "\n",
    "size = float(input(\"Enter the fruit size in cm: \"))\n",
    "shade = float(input(\"Enter the color shade (1,10):\"))\n",
    "\n",
    "result = model.predict([[size, shade]])[0]\n",
    "\n",
    "if result == 0:\n",
    "    print(\"This is likely an Apple.\")\n",
    "else:\n",
    "    print(\"This is likely an Orange.\")"
   ]
  },
  {
   "cell_type": "code",
   "execution_count": null,
   "id": "f305a3c4-9ddb-4e6d-acad-6f0dc0f19404",
   "metadata": {},
   "outputs": [],
   "source": []
  }
 ],
 "metadata": {
  "kernelspec": {
   "display_name": "SKLEARN-KERNEL",
   "language": "python",
   "name": "sklearn-kernel"
  },
  "language_info": {
   "codemirror_mode": {
    "name": "ipython",
    "version": 3
   },
   "file_extension": ".py",
   "mimetype": "text/x-python",
   "name": "python",
   "nbconvert_exporter": "python",
   "pygments_lexer": "ipython3",
   "version": "3.12.0"
  }
 },
 "nbformat": 4,
 "nbformat_minor": 5
}
