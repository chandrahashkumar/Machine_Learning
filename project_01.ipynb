{
 "cells": [
  {
   "cell_type": "code",
   "execution_count": 1,
   "id": "0cb37064-d1e3-452d-9a5c-448ee3d9618e",
   "metadata": {},
   "outputs": [],
   "source": [
    "import pandas as pd \n",
    "import numpy as np\n",
    "import matplotlib.pyplot as plt \n",
    "from sklearn.linear_model import LinearRegression\n",
    "from sklearn.metrics import mean_absolute_error, mean_squared_error, r2_score"
   ]
  },
  {
   "cell_type": "code",
   "execution_count": 2,
   "id": "292bbe1c-2c92-42c5-be2c-6c7234293991",
   "metadata": {},
   "outputs": [
    {
     "data": {
      "application/vnd.microsoft.datawrangler.viewer.v0+json": {
       "columns": [
        {
         "name": "index",
         "rawType": "int64",
         "type": "integer"
        },
        {
         "name": "Hours_Studied",
         "rawType": "int64",
         "type": "integer"
        },
        {
         "name": "Attendance",
         "rawType": "int64",
         "type": "integer"
        },
        {
         "name": "Parental_Involvement",
         "rawType": "object",
         "type": "string"
        },
        {
         "name": "Access_to_Resources",
         "rawType": "object",
         "type": "string"
        },
        {
         "name": "Extracurricular_Activities",
         "rawType": "object",
         "type": "string"
        },
        {
         "name": "Sleep_Hours",
         "rawType": "int64",
         "type": "integer"
        },
        {
         "name": "Previous_Scores",
         "rawType": "int64",
         "type": "integer"
        },
        {
         "name": "Motivation_Level",
         "rawType": "object",
         "type": "string"
        },
        {
         "name": "Internet_Access",
         "rawType": "object",
         "type": "string"
        },
        {
         "name": "Tutoring_Sessions",
         "rawType": "int64",
         "type": "integer"
        },
        {
         "name": "Family_Income",
         "rawType": "object",
         "type": "string"
        },
        {
         "name": "Teacher_Quality",
         "rawType": "object",
         "type": "string"
        },
        {
         "name": "School_Type",
         "rawType": "object",
         "type": "string"
        },
        {
         "name": "Peer_Influence",
         "rawType": "object",
         "type": "string"
        },
        {
         "name": "Physical_Activity",
         "rawType": "int64",
         "type": "integer"
        },
        {
         "name": "Learning_Disabilities",
         "rawType": "object",
         "type": "string"
        },
        {
         "name": "Parental_Education_Level",
         "rawType": "object",
         "type": "string"
        },
        {
         "name": "Distance_from_Home",
         "rawType": "object",
         "type": "string"
        },
        {
         "name": "Gender",
         "rawType": "object",
         "type": "string"
        },
        {
         "name": "Exam_Score",
         "rawType": "int64",
         "type": "integer"
        }
       ],
       "ref": "03f5c90d-0e35-4e27-aae4-362583f96e5b",
       "rows": [
        [
         "0",
         "23",
         "84",
         "Low",
         "High",
         "No",
         "7",
         "73",
         "Low",
         "Yes",
         "0",
         "Low",
         "Medium",
         "Public",
         "Positive",
         "3",
         "No",
         "High School",
         "Near",
         "Male",
         "67"
        ],
        [
         "1",
         "19",
         "64",
         "Low",
         "Medium",
         "No",
         "8",
         "59",
         "Low",
         "Yes",
         "2",
         "Medium",
         "Medium",
         "Public",
         "Negative",
         "4",
         "No",
         "College",
         "Moderate",
         "Female",
         "61"
        ],
        [
         "2",
         "24",
         "98",
         "Medium",
         "Medium",
         "Yes",
         "7",
         "91",
         "Medium",
         "Yes",
         "2",
         "Medium",
         "Medium",
         "Public",
         "Neutral",
         "4",
         "No",
         "Postgraduate",
         "Near",
         "Male",
         "74"
        ],
        [
         "3",
         "29",
         "89",
         "Low",
         "Medium",
         "Yes",
         "8",
         "98",
         "Medium",
         "Yes",
         "1",
         "Medium",
         "Medium",
         "Public",
         "Negative",
         "4",
         "No",
         "High School",
         "Moderate",
         "Male",
         "71"
        ],
        [
         "4",
         "19",
         "92",
         "Medium",
         "Medium",
         "Yes",
         "6",
         "65",
         "Medium",
         "Yes",
         "3",
         "Medium",
         "High",
         "Public",
         "Neutral",
         "4",
         "No",
         "College",
         "Near",
         "Female",
         "70"
        ]
       ],
       "shape": {
        "columns": 20,
        "rows": 5
       }
      },
      "text/html": [
       "<div>\n",
       "<style scoped>\n",
       "    .dataframe tbody tr th:only-of-type {\n",
       "        vertical-align: middle;\n",
       "    }\n",
       "\n",
       "    .dataframe tbody tr th {\n",
       "        vertical-align: top;\n",
       "    }\n",
       "\n",
       "    .dataframe thead th {\n",
       "        text-align: right;\n",
       "    }\n",
       "</style>\n",
       "<table border=\"1\" class=\"dataframe\">\n",
       "  <thead>\n",
       "    <tr style=\"text-align: right;\">\n",
       "      <th></th>\n",
       "      <th>Hours_Studied</th>\n",
       "      <th>Attendance</th>\n",
       "      <th>Parental_Involvement</th>\n",
       "      <th>Access_to_Resources</th>\n",
       "      <th>Extracurricular_Activities</th>\n",
       "      <th>Sleep_Hours</th>\n",
       "      <th>Previous_Scores</th>\n",
       "      <th>Motivation_Level</th>\n",
       "      <th>Internet_Access</th>\n",
       "      <th>Tutoring_Sessions</th>\n",
       "      <th>Family_Income</th>\n",
       "      <th>Teacher_Quality</th>\n",
       "      <th>School_Type</th>\n",
       "      <th>Peer_Influence</th>\n",
       "      <th>Physical_Activity</th>\n",
       "      <th>Learning_Disabilities</th>\n",
       "      <th>Parental_Education_Level</th>\n",
       "      <th>Distance_from_Home</th>\n",
       "      <th>Gender</th>\n",
       "      <th>Exam_Score</th>\n",
       "    </tr>\n",
       "  </thead>\n",
       "  <tbody>\n",
       "    <tr>\n",
       "      <th>0</th>\n",
       "      <td>23</td>\n",
       "      <td>84</td>\n",
       "      <td>Low</td>\n",
       "      <td>High</td>\n",
       "      <td>No</td>\n",
       "      <td>7</td>\n",
       "      <td>73</td>\n",
       "      <td>Low</td>\n",
       "      <td>Yes</td>\n",
       "      <td>0</td>\n",
       "      <td>Low</td>\n",
       "      <td>Medium</td>\n",
       "      <td>Public</td>\n",
       "      <td>Positive</td>\n",
       "      <td>3</td>\n",
       "      <td>No</td>\n",
       "      <td>High School</td>\n",
       "      <td>Near</td>\n",
       "      <td>Male</td>\n",
       "      <td>67</td>\n",
       "    </tr>\n",
       "    <tr>\n",
       "      <th>1</th>\n",
       "      <td>19</td>\n",
       "      <td>64</td>\n",
       "      <td>Low</td>\n",
       "      <td>Medium</td>\n",
       "      <td>No</td>\n",
       "      <td>8</td>\n",
       "      <td>59</td>\n",
       "      <td>Low</td>\n",
       "      <td>Yes</td>\n",
       "      <td>2</td>\n",
       "      <td>Medium</td>\n",
       "      <td>Medium</td>\n",
       "      <td>Public</td>\n",
       "      <td>Negative</td>\n",
       "      <td>4</td>\n",
       "      <td>No</td>\n",
       "      <td>College</td>\n",
       "      <td>Moderate</td>\n",
       "      <td>Female</td>\n",
       "      <td>61</td>\n",
       "    </tr>\n",
       "    <tr>\n",
       "      <th>2</th>\n",
       "      <td>24</td>\n",
       "      <td>98</td>\n",
       "      <td>Medium</td>\n",
       "      <td>Medium</td>\n",
       "      <td>Yes</td>\n",
       "      <td>7</td>\n",
       "      <td>91</td>\n",
       "      <td>Medium</td>\n",
       "      <td>Yes</td>\n",
       "      <td>2</td>\n",
       "      <td>Medium</td>\n",
       "      <td>Medium</td>\n",
       "      <td>Public</td>\n",
       "      <td>Neutral</td>\n",
       "      <td>4</td>\n",
       "      <td>No</td>\n",
       "      <td>Postgraduate</td>\n",
       "      <td>Near</td>\n",
       "      <td>Male</td>\n",
       "      <td>74</td>\n",
       "    </tr>\n",
       "    <tr>\n",
       "      <th>3</th>\n",
       "      <td>29</td>\n",
       "      <td>89</td>\n",
       "      <td>Low</td>\n",
       "      <td>Medium</td>\n",
       "      <td>Yes</td>\n",
       "      <td>8</td>\n",
       "      <td>98</td>\n",
       "      <td>Medium</td>\n",
       "      <td>Yes</td>\n",
       "      <td>1</td>\n",
       "      <td>Medium</td>\n",
       "      <td>Medium</td>\n",
       "      <td>Public</td>\n",
       "      <td>Negative</td>\n",
       "      <td>4</td>\n",
       "      <td>No</td>\n",
       "      <td>High School</td>\n",
       "      <td>Moderate</td>\n",
       "      <td>Male</td>\n",
       "      <td>71</td>\n",
       "    </tr>\n",
       "    <tr>\n",
       "      <th>4</th>\n",
       "      <td>19</td>\n",
       "      <td>92</td>\n",
       "      <td>Medium</td>\n",
       "      <td>Medium</td>\n",
       "      <td>Yes</td>\n",
       "      <td>6</td>\n",
       "      <td>65</td>\n",
       "      <td>Medium</td>\n",
       "      <td>Yes</td>\n",
       "      <td>3</td>\n",
       "      <td>Medium</td>\n",
       "      <td>High</td>\n",
       "      <td>Public</td>\n",
       "      <td>Neutral</td>\n",
       "      <td>4</td>\n",
       "      <td>No</td>\n",
       "      <td>College</td>\n",
       "      <td>Near</td>\n",
       "      <td>Female</td>\n",
       "      <td>70</td>\n",
       "    </tr>\n",
       "  </tbody>\n",
       "</table>\n",
       "</div>"
      ],
      "text/plain": [
       "   Hours_Studied  Attendance Parental_Involvement Access_to_Resources  \\\n",
       "0             23          84                  Low                High   \n",
       "1             19          64                  Low              Medium   \n",
       "2             24          98               Medium              Medium   \n",
       "3             29          89                  Low              Medium   \n",
       "4             19          92               Medium              Medium   \n",
       "\n",
       "  Extracurricular_Activities  Sleep_Hours  Previous_Scores Motivation_Level  \\\n",
       "0                         No            7               73              Low   \n",
       "1                         No            8               59              Low   \n",
       "2                        Yes            7               91           Medium   \n",
       "3                        Yes            8               98           Medium   \n",
       "4                        Yes            6               65           Medium   \n",
       "\n",
       "  Internet_Access  Tutoring_Sessions Family_Income Teacher_Quality  \\\n",
       "0             Yes                  0           Low          Medium   \n",
       "1             Yes                  2        Medium          Medium   \n",
       "2             Yes                  2        Medium          Medium   \n",
       "3             Yes                  1        Medium          Medium   \n",
       "4             Yes                  3        Medium            High   \n",
       "\n",
       "  School_Type Peer_Influence  Physical_Activity Learning_Disabilities  \\\n",
       "0      Public       Positive                  3                    No   \n",
       "1      Public       Negative                  4                    No   \n",
       "2      Public        Neutral                  4                    No   \n",
       "3      Public       Negative                  4                    No   \n",
       "4      Public        Neutral                  4                    No   \n",
       "\n",
       "  Parental_Education_Level Distance_from_Home  Gender  Exam_Score  \n",
       "0              High School               Near    Male          67  \n",
       "1                  College           Moderate  Female          61  \n",
       "2             Postgraduate               Near    Male          74  \n",
       "3              High School           Moderate    Male          71  \n",
       "4                  College               Near  Female          70  "
      ]
     },
     "execution_count": 2,
     "metadata": {},
     "output_type": "execute_result"
    }
   ],
   "source": [
    "df = pd.read_csv(\"StudentPerformanceFactors.csv\")\n",
    "df.head()"
   ]
  },
  {
   "cell_type": "code",
   "execution_count": 3,
   "id": "25df224c-c93c-4de3-8358-67d0decb6979",
   "metadata": {},
   "outputs": [
    {
     "data": {
      "application/vnd.microsoft.datawrangler.viewer.v0+json": {
       "columns": [
        {
         "name": "index",
         "rawType": "object",
         "type": "string"
        },
        {
         "name": "Hours_Studied",
         "rawType": "float64",
         "type": "float"
        },
        {
         "name": "Attendance",
         "rawType": "float64",
         "type": "float"
        },
        {
         "name": "Sleep_Hours",
         "rawType": "float64",
         "type": "float"
        },
        {
         "name": "Previous_Scores",
         "rawType": "float64",
         "type": "float"
        },
        {
         "name": "Tutoring_Sessions",
         "rawType": "float64",
         "type": "float"
        },
        {
         "name": "Physical_Activity",
         "rawType": "float64",
         "type": "float"
        },
        {
         "name": "Exam_Score",
         "rawType": "float64",
         "type": "float"
        }
       ],
       "ref": "83e7a62c-cacd-4efd-9e86-f3e82b3b857c",
       "rows": [
        [
         "count",
         "6607.0",
         "6607.0",
         "6607.0",
         "6607.0",
         "6607.0",
         "6607.0",
         "6607.0"
        ],
        [
         "mean",
         "19.975329196306948",
         "79.97744816104132",
         "7.029060087785682",
         "75.07053125472983",
         "1.4937187831088239",
         "2.9676101104888755",
         "67.23565914938702"
        ],
        [
         "std",
         "5.9905943365787415",
         "11.547474961482814",
         "1.4681202267434879",
         "14.399784350759024",
         "1.2305704213240194",
         "1.0312310926271286",
         "3.890455781261732"
        ],
        [
         "min",
         "1.0",
         "60.0",
         "4.0",
         "50.0",
         "0.0",
         "0.0",
         "55.0"
        ],
        [
         "25%",
         "16.0",
         "70.0",
         "6.0",
         "63.0",
         "1.0",
         "2.0",
         "65.0"
        ],
        [
         "50%",
         "20.0",
         "80.0",
         "7.0",
         "75.0",
         "1.0",
         "3.0",
         "67.0"
        ],
        [
         "75%",
         "24.0",
         "90.0",
         "8.0",
         "88.0",
         "2.0",
         "4.0",
         "69.0"
        ],
        [
         "max",
         "44.0",
         "100.0",
         "10.0",
         "100.0",
         "8.0",
         "6.0",
         "101.0"
        ]
       ],
       "shape": {
        "columns": 7,
        "rows": 8
       }
      },
      "text/html": [
       "<div>\n",
       "<style scoped>\n",
       "    .dataframe tbody tr th:only-of-type {\n",
       "        vertical-align: middle;\n",
       "    }\n",
       "\n",
       "    .dataframe tbody tr th {\n",
       "        vertical-align: top;\n",
       "    }\n",
       "\n",
       "    .dataframe thead th {\n",
       "        text-align: right;\n",
       "    }\n",
       "</style>\n",
       "<table border=\"1\" class=\"dataframe\">\n",
       "  <thead>\n",
       "    <tr style=\"text-align: right;\">\n",
       "      <th></th>\n",
       "      <th>Hours_Studied</th>\n",
       "      <th>Attendance</th>\n",
       "      <th>Sleep_Hours</th>\n",
       "      <th>Previous_Scores</th>\n",
       "      <th>Tutoring_Sessions</th>\n",
       "      <th>Physical_Activity</th>\n",
       "      <th>Exam_Score</th>\n",
       "    </tr>\n",
       "  </thead>\n",
       "  <tbody>\n",
       "    <tr>\n",
       "      <th>count</th>\n",
       "      <td>6607.000000</td>\n",
       "      <td>6607.000000</td>\n",
       "      <td>6607.00000</td>\n",
       "      <td>6607.000000</td>\n",
       "      <td>6607.000000</td>\n",
       "      <td>6607.000000</td>\n",
       "      <td>6607.000000</td>\n",
       "    </tr>\n",
       "    <tr>\n",
       "      <th>mean</th>\n",
       "      <td>19.975329</td>\n",
       "      <td>79.977448</td>\n",
       "      <td>7.02906</td>\n",
       "      <td>75.070531</td>\n",
       "      <td>1.493719</td>\n",
       "      <td>2.967610</td>\n",
       "      <td>67.235659</td>\n",
       "    </tr>\n",
       "    <tr>\n",
       "      <th>std</th>\n",
       "      <td>5.990594</td>\n",
       "      <td>11.547475</td>\n",
       "      <td>1.46812</td>\n",
       "      <td>14.399784</td>\n",
       "      <td>1.230570</td>\n",
       "      <td>1.031231</td>\n",
       "      <td>3.890456</td>\n",
       "    </tr>\n",
       "    <tr>\n",
       "      <th>min</th>\n",
       "      <td>1.000000</td>\n",
       "      <td>60.000000</td>\n",
       "      <td>4.00000</td>\n",
       "      <td>50.000000</td>\n",
       "      <td>0.000000</td>\n",
       "      <td>0.000000</td>\n",
       "      <td>55.000000</td>\n",
       "    </tr>\n",
       "    <tr>\n",
       "      <th>25%</th>\n",
       "      <td>16.000000</td>\n",
       "      <td>70.000000</td>\n",
       "      <td>6.00000</td>\n",
       "      <td>63.000000</td>\n",
       "      <td>1.000000</td>\n",
       "      <td>2.000000</td>\n",
       "      <td>65.000000</td>\n",
       "    </tr>\n",
       "    <tr>\n",
       "      <th>50%</th>\n",
       "      <td>20.000000</td>\n",
       "      <td>80.000000</td>\n",
       "      <td>7.00000</td>\n",
       "      <td>75.000000</td>\n",
       "      <td>1.000000</td>\n",
       "      <td>3.000000</td>\n",
       "      <td>67.000000</td>\n",
       "    </tr>\n",
       "    <tr>\n",
       "      <th>75%</th>\n",
       "      <td>24.000000</td>\n",
       "      <td>90.000000</td>\n",
       "      <td>8.00000</td>\n",
       "      <td>88.000000</td>\n",
       "      <td>2.000000</td>\n",
       "      <td>4.000000</td>\n",
       "      <td>69.000000</td>\n",
       "    </tr>\n",
       "    <tr>\n",
       "      <th>max</th>\n",
       "      <td>44.000000</td>\n",
       "      <td>100.000000</td>\n",
       "      <td>10.00000</td>\n",
       "      <td>100.000000</td>\n",
       "      <td>8.000000</td>\n",
       "      <td>6.000000</td>\n",
       "      <td>101.000000</td>\n",
       "    </tr>\n",
       "  </tbody>\n",
       "</table>\n",
       "</div>"
      ],
      "text/plain": [
       "       Hours_Studied   Attendance  Sleep_Hours  Previous_Scores  \\\n",
       "count    6607.000000  6607.000000   6607.00000      6607.000000   \n",
       "mean       19.975329    79.977448      7.02906        75.070531   \n",
       "std         5.990594    11.547475      1.46812        14.399784   \n",
       "min         1.000000    60.000000      4.00000        50.000000   \n",
       "25%        16.000000    70.000000      6.00000        63.000000   \n",
       "50%        20.000000    80.000000      7.00000        75.000000   \n",
       "75%        24.000000    90.000000      8.00000        88.000000   \n",
       "max        44.000000   100.000000     10.00000       100.000000   \n",
       "\n",
       "       Tutoring_Sessions  Physical_Activity   Exam_Score  \n",
       "count        6607.000000        6607.000000  6607.000000  \n",
       "mean            1.493719           2.967610    67.235659  \n",
       "std             1.230570           1.031231     3.890456  \n",
       "min             0.000000           0.000000    55.000000  \n",
       "25%             1.000000           2.000000    65.000000  \n",
       "50%             1.000000           3.000000    67.000000  \n",
       "75%             2.000000           4.000000    69.000000  \n",
       "max             8.000000           6.000000   101.000000  "
      ]
     },
     "execution_count": 3,
     "metadata": {},
     "output_type": "execute_result"
    }
   ],
   "source": [
    "df.describe()"
   ]
  },
  {
   "cell_type": "code",
   "execution_count": 3,
   "id": "195082bc-2576-4b5e-9668-cd11b73db23f",
   "metadata": {},
   "outputs": [
    {
     "name": "stdout",
     "output_type": "stream",
     "text": [
      "<class 'pandas.core.frame.DataFrame'>\n",
      "RangeIndex: 6607 entries, 0 to 6606\n",
      "Data columns (total 20 columns):\n",
      " #   Column                      Non-Null Count  Dtype \n",
      "---  ------                      --------------  ----- \n",
      " 0   Hours_Studied               6607 non-null   int64 \n",
      " 1   Attendance                  6607 non-null   int64 \n",
      " 2   Parental_Involvement        6607 non-null   object\n",
      " 3   Access_to_Resources         6607 non-null   object\n",
      " 4   Extracurricular_Activities  6607 non-null   object\n",
      " 5   Sleep_Hours                 6607 non-null   int64 \n",
      " 6   Previous_Scores             6607 non-null   int64 \n",
      " 7   Motivation_Level            6607 non-null   object\n",
      " 8   Internet_Access             6607 non-null   object\n",
      " 9   Tutoring_Sessions           6607 non-null   int64 \n",
      " 10  Family_Income               6607 non-null   object\n",
      " 11  Teacher_Quality             6529 non-null   object\n",
      " 12  School_Type                 6607 non-null   object\n",
      " 13  Peer_Influence              6607 non-null   object\n",
      " 14  Physical_Activity           6607 non-null   int64 \n",
      " 15  Learning_Disabilities       6607 non-null   object\n",
      " 16  Parental_Education_Level    6517 non-null   object\n",
      " 17  Distance_from_Home          6540 non-null   object\n",
      " 18  Gender                      6607 non-null   object\n",
      " 19  Exam_Score                  6607 non-null   int64 \n",
      "dtypes: int64(7), object(13)\n",
      "memory usage: 1.0+ MB\n"
     ]
    }
   ],
   "source": [
    "df.info()"
   ]
  },
  {
   "cell_type": "code",
   "execution_count": 4,
   "id": "a8c87a4c-69fa-4f3d-8e84-8e12a81225f2",
   "metadata": {},
   "outputs": [
    {
     "name": "stdout",
     "output_type": "stream",
     "text": [
      "Mean Absolute Error (MAE): 1.52\n",
      "Mean Squared Error (MSE): 6.92\n",
      "Root Mean Squared Error (RMSE): 2.63\n",
      "R^2 Score (Model Accuracy): 0.5428\n"
     ]
    }
   ],
   "source": [
    "X = df[['Hours_Studied','Attendance','Physical_Activity']]\n",
    "y = df['Exam_Score']\n",
    "\n",
    "# model train\n",
    "model = LinearRegression()\n",
    "model.fit(X,y) \n",
    "prediction_score = model.predict(X) \n",
    "\n",
    "# Valid regression metrics \n",
    "mae = mean_absolute_error(y, prediction_score)\n",
    "mse = mean_squared_error(y, prediction_score)\n",
    "rmse = np.sqrt(mse) \n",
    "r2 = r2_score(y, prediction_score)\n",
    "\n",
    "\n",
    "\"\"\" \n",
    "3.1445\n",
    "round(3.1445, 2) -> 3.14\n",
    "\n",
    "\"\"\"\n",
    "\n",
    "print(f\"Mean Absolute Error (MAE): {round(mae, 2)}\")\n",
    "print(f\"Mean Squared Error (MSE): {round(mse, 2)}\")\n",
    "print(f\"Root Mean Squared Error (RMSE): {round(rmse, 2)}\")\n",
    "print(f\"R^2 Score (Model Accuracy): {round(r2, 4)}\") # value between 1 to 0 and closer to 1 = better\n",
    "\n"
   ]
  },
  {
   "cell_type": "code",
   "execution_count": 5,
   "id": "6ee12478-5cdd-40d7-97ae-4091faea0684",
   "metadata": {},
   "outputs": [
    {
     "data": {
      "image/png": "[encoded data removed]",
      "text/plain": [
       "<Figure size 1000x600 with 1 Axes>"
      ]
     },
     "metadata": {},
     "output_type": "display_data"
    }
   ],
   "source": [
    "plt.figure(figsize=(10, 6)) \n",
    "plt.hist(df[\"Exam_Score\"], bins= 30, color='skyblue', edgecolor='black')\n",
    "plt.title(\"Distribution of Exam Scores\")\n",
    "plt.xlabel(\"Exam Score\")\n",
    "plt.ylabel(\"Number of Students\")\n",
    "plt.grid(True)\n",
    "plt.show()"
   ]
  },
  {
   "cell_type": "code",
   "execution_count": 6,
   "id": "b6d43fc6-69dd-444a-b6e8-576736fd1728",
   "metadata": {},
   "outputs": [],
   "source": [
    "# plt.figure(figsize=(10, 6))\n",
    "# plt.scatter(X,y, color = 'blue', label = \"Actual Scores\")\n",
    "# plt.plot(X, prediction_score, color = 'red', label = \"Predicted Scores (Regression Line)\")\n",
    "# plt.title(\"Model Prediction vs Actual Score\")\n",
    "# plt.xlabel(\"Study Hours per Week\")\n",
    "# plt.ylabel(\"Exam Score\")\n",
    "# plt.grid(True)\n",
    "# plt.show()\n"
   ]
  },
  {
   "cell_type": "code",
   "execution_count": 7,
   "id": "dd4ad4fd-9884-48af-aef8-7a649ddf31a3",
   "metadata": {},
   "outputs": [
    {
     "name": "stdout",
     "output_type": "stream",
     "text": [
      "Predicted Exam Score for 40 hours is [77.20913934] Score\n"
     ]
    },
    {
     "name": "stderr",
     "output_type": "stream",
     "text": [
      "c:\\Users\\hp\\Desktop\\Machine_Learning\\mlvenv\\Lib\\site-packages\\sklearn\\utils\\validation.py:2749: UserWarning: X does not have valid feature names, but LinearRegression was fitted with feature names\n",
      "  warnings.warn(\n"
     ]
    }
   ],
   "source": [
    "new_hours = int(input(\"Enter hours: \"))\n",
    "predicted_new_score = model.predict([[new_hours, 100,4]])\n",
    "print(f\"Predicted Exam Score for {new_hours} hours is {predicted_new_score} Score\")"
   ]
  },
  {
   "cell_type": "code",
   "execution_count": null,
   "id": "199907f5-4205-4dbc-ab40-a17229009463",
   "metadata": {},
   "outputs": [],
   "source": []
  }
 ],
 "metadata": {
  "kernelspec": {
   "display_name": "SKLEARN-KERNEL",
   "language": "python",
   "name": "sklearn-kernel"
  },
  "language_info": {
   "codemirror_mode": {
    "name": "ipython",
    "version": 3
   },
   "file_extension": ".py",
   "mimetype": "text/x-python",
   "name": "python",
   "nbconvert_exporter": "python",
   "pygments_lexer": "ipython3",
   "version": "3.12.0"
  }
 },
 "nbformat": 4,
 "nbformat_minor": 5
}
